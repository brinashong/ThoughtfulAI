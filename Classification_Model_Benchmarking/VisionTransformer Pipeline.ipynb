{
 "cells": [
  {
   "cell_type": "code",
   "execution_count": 32,
   "metadata": {
    "id": "2nA5xXgb2M4s"
   },
   "outputs": [],
   "source": [
    "! pip install pytorch-lightning --quiet -U\n",
    "# install weights and biases\n",
    "!pip install wandb --quiet"
   ]
  },
  {
   "cell_type": "code",
   "execution_count": 33,
   "metadata": {
    "id": "iZeBsTkx2Rkt"
   },
   "outputs": [],
   "source": [
    "import pytorch_lightning as pl\n",
    "# your favorite machine learning tracking tool\n",
    "from pytorch_lightning.loggers import WandbLogger\n",
    "\n",
    "import os\n",
    "\n",
    "import torch\n",
    "from torch import nn\n",
    "from torch.nn import functional as F\n",
    "from torch.utils.data import random_split, DataLoader\n",
    "\n",
    "from torchmetrics import Accuracy\n",
    "\n",
    "from torchvision import transforms, datasets\n",
    "\n",
    "import wandb\n",
    "\n",
    "torch.set_float32_matmul_precision(\"medium\")"
   ]
  },
  {
   "cell_type": "code",
   "execution_count": 34,
   "metadata": {
    "id": "8iyUnq_9_B4m"
   },
   "outputs": [
    {
     "name": "stderr",
     "output_type": "stream",
     "text": [
      "\u001b[34m\u001b[1mwandb\u001b[0m: \u001b[33mWARNING\u001b[0m Calling wandb.login() after wandb.init() has no effect.\n"
     ]
    },
    {
     "data": {
      "text/plain": [
       "True"
      ]
     },
     "execution_count": 34,
     "metadata": {},
     "output_type": "execute_result"
    }
   ],
   "source": [
    "wandb.login()"
   ]
  },
  {
   "cell_type": "code",
   "execution_count": 35,
   "metadata": {},
   "outputs": [
    {
     "name": "stdout",
     "output_type": "stream",
     "text": [
      "ImageClassification(\n",
      "    crop_size=[224]\n",
      "    resize_size=[256]\n",
      "    mean=[0.485, 0.456, 0.406]\n",
      "    std=[0.229, 0.224, 0.225]\n",
      "    interpolation=InterpolationMode.BILINEAR\n",
      ")\n"
     ]
    }
   ],
   "source": [
    "from torchvision.models import ViT_B_16_Weights\n",
    "\n",
    "# get data transforms\n",
    "weights = ViT_B_16_Weights.DEFAULT\n",
    "data_transforms = weights.transforms()\n",
    "print(data_transforms)"
   ]
  },
  {
   "cell_type": "code",
   "execution_count": 36,
   "metadata": {},
   "outputs": [],
   "source": [
    "# Load your custom dataset\n",
    "data_dir = './random_dataset'\n",
    "\n",
    "# Define transforms for the dataset\n",
    "data_transforms = {\n",
    "    'train': transforms.Compose([\n",
    "        transforms.RandomResizedCrop(224),\n",
    "        transforms.RandomHorizontalFlip(),\n",
    "        transforms.ToTensor(),\n",
    "        transforms.Normalize([0.485, 0.456, 0.406], [0.229, 0.224, 0.225])\n",
    "    ]),\n",
    "    'test': transforms.Compose([\n",
    "        transforms.Resize(256),\n",
    "        transforms.CenterCrop(224),\n",
    "        transforms.ToTensor(),\n",
    "        transforms.Normalize([0.485, 0.456, 0.406], [0.229, 0.224, 0.225])\n",
    "    ]),\n",
    "}\n",
    "\n",
    "image_datasets = {x: datasets.ImageFolder(os.path.join(data_dir, x), data_transforms[x])\n",
    "                  for x in ['train', 'test']}\n",
    "dataloaders = {x: torch.utils.data.DataLoader(image_datasets[x], batch_size=32,\n",
    "                                             shuffle=True, num_workers=4)\n",
    "              for x in ['train', 'test']}\n",
    "class_names = image_datasets['train'].classes"
   ]
  },
  {
   "cell_type": "code",
   "execution_count": 37,
   "metadata": {
    "id": "f65omx9A2Tbd"
   },
   "outputs": [],
   "source": [
    "class ImageClassifierModule(pl.LightningDataModule):\n",
    "    def __init__(self, batch_size, data_dir: str = './dataset'):\n",
    "        super().__init__()\n",
    "        self.data_dir = data_dir\n",
    "        self.batch_size = batch_size\n",
    "\n",
    "        self.transform = {\n",
    "            'train': transforms.Compose([\n",
    "                transforms.RandomResizedCrop(224),\n",
    "                transforms.RandomHorizontalFlip(),\n",
    "                transforms.ToTensor(),\n",
    "                transforms.Normalize([0.485, 0.456, 0.406], [0.229, 0.224, 0.225])\n",
    "            ]),\n",
    "            'test': transforms.Compose([\n",
    "                transforms.Resize(256),\n",
    "                transforms.CenterCrop(224),\n",
    "                transforms.ToTensor(),\n",
    "                transforms.Normalize([0.485, 0.456, 0.406], [0.229, 0.224, 0.225])\n",
    "            ]),\n",
    "        }        \n",
    "\n",
    "        self.image_datasets = {x: datasets.ImageFolder(os.path.join(data_dir, x), self.transform[x])\n",
    "                  for x in ['train', 'test']}\n",
    "        self.class_names = self.image_datasets['train'].classes\n",
    "        self.num_classes = len(self.class_names)\n",
    "\n",
    "        set_train_full = self.image_datasets['train']\n",
    "        self.set_train, self.set_val = random_split(set_train_full, [0.9, 0.1])\n",
    "        self.set_test = self.image_datasets['test']\n",
    "\n",
    "    def train_dataloader(self):\n",
    "        return DataLoader(self.set_train, batch_size=self.batch_size, shuffle=True, num_workers=4, pin_memory=True)\n",
    "\n",
    "    def val_dataloader(self):\n",
    "        return DataLoader(self.set_val, batch_size=self.batch_size, num_workers=4)\n",
    "\n",
    "    def test_dataloader(self):\n",
    "        return DataLoader(self.set_test, batch_size=self.batch_size, num_workers=4)"
   ]
  },
  {
   "cell_type": "code",
   "execution_count": 38,
   "metadata": {
    "id": "_Gl5u3H_2zAl"
   },
   "outputs": [],
   "source": [
    "class ImagePredictionLogger(pl.callbacks.Callback):\n",
    "    def __init__(self, val_samples, num_samples=32):\n",
    "        super().__init__()\n",
    "        self.num_samples = num_samples\n",
    "        self.val_imgs, self.val_labels = val_samples\n",
    "\n",
    "    def on_validation_epoch_end(self, trainer, pl_module):\n",
    "        # Bring the tensors to CPU\n",
    "        val_imgs = self.val_imgs.to(device=pl_module.device)\n",
    "        val_labels = self.val_labels.to(device=pl_module.device)\n",
    "        # Get model prediction\n",
    "        logits = pl_module(val_imgs)\n",
    "        preds = torch.argmax(logits, -1)\n",
    "        # Log the images as wandb Image\n",
    "        trainer.logger.experiment.log({\n",
    "            \"examples\":[wandb.Image(x, caption=f\"Pred:{class_names[pred] if class_names is not None else pred}, Label:{class_names[y] if class_names is not None else y}\")\n",
    "                           for x, pred, y in zip(val_imgs[:self.num_samples],\n",
    "                                                 preds[:self.num_samples],\n",
    "                                                 val_labels[:self.num_samples])]\n",
    "            })\n"
   ]
  },
  {
   "cell_type": "code",
   "execution_count": 39,
   "metadata": {
    "id": "o3Qq2t3X3n0A"
   },
   "outputs": [],
   "source": [
    "from torchvision import models\n",
    "\n",
    "class LitModel(pl.LightningModule):\n",
    "    def __init__(self, input_shape, num_classes, learning_rate=2e-4, transfer=True):\n",
    "        super().__init__()\n",
    "        \n",
    "        # log hyperparameters\n",
    "        self.save_hyperparameters()\n",
    "        self.learning_rate = learning_rate\n",
    "        self.dim = input_shape\n",
    "        self.num_classes = num_classes\n",
    "        \n",
    "        # transfer learning if pretrained=True\n",
    "        self.feature_extractor = models.vit_b_16(weights=models.ViT_B_16_Weights.DEFAULT)\n",
    "        \n",
    "        if transfer:\n",
    "            # layers are frozen by using eval()\n",
    "            self.feature_extractor.eval()\n",
    "            # freeze params\n",
    "            for param in self.feature_extractor.parameters():\n",
    "                param.requires_grad = False\n",
    "        \n",
    "        n_sizes = self._get_conv_output(input_shape)\n",
    "\n",
    "        self.classifier = nn.Linear(n_sizes, num_classes)\n",
    "\n",
    "        self.criterion = nn.CrossEntropyLoss()\n",
    "        self.accuracy = Accuracy('multiclass', num_classes=num_classes)\n",
    "  \n",
    "    # returns the size of the output tensor going into the Linear layer from the conv block.\n",
    "    def _get_conv_output(self, shape):\n",
    "        batch_size = 1\n",
    "        tmp_input = torch.autograd.Variable(torch.rand(batch_size, *shape))\n",
    "\n",
    "        output_feat = self._forward_features(tmp_input) \n",
    "        n_size = output_feat.data.view(batch_size, -1).size(1)\n",
    "        return n_size\n",
    "        \n",
    "    # returns the feature tensor from the conv block\n",
    "    def _forward_features(self, x):\n",
    "        x = self.feature_extractor(x)\n",
    "        return x\n",
    "    \n",
    "    # will be used during inference\n",
    "    def forward(self, x):\n",
    "       x = self._forward_features(x)\n",
    "       x = x.view(x.size(0), -1)\n",
    "       x = self.classifier(x)\n",
    "        \n",
    "       return x\n",
    "    \n",
    "    def training_step(self, batch):\n",
    "        batch, gt = batch[0], batch[1]\n",
    "        out = self.forward(batch)\n",
    "        loss = self.criterion(out, gt)\n",
    "        acc = self.accuracy(out, gt)\n",
    "\n",
    "        self.log(\"train/loss\", loss)\n",
    "        self.log(\"train/acc\", acc)\n",
    "\n",
    "        return loss\n",
    "    \n",
    "    def validation_step(self, batch, batch_idx):\n",
    "        batch, gt = batch[0], batch[1]\n",
    "        out = self.forward(batch)\n",
    "        loss = self.criterion(out, gt)\n",
    "        acc = self.accuracy(out, gt)\n",
    "\n",
    "        self.log(\"val/loss\", loss)\n",
    "        self.log(\"val/acc\", acc)\n",
    "\n",
    "        return loss\n",
    "    \n",
    "    def test_step(self, batch, batch_idx):\n",
    "        # batch, gt = batch[0], batch[1]\n",
    "        # out = self.forward(batch)\n",
    "        # loss = self.criterion(out, gt)\n",
    "        # acc = self.accuracy(out, gt)\n",
    "        \n",
    "        # self.log(\"test/loss\", loss)\n",
    "        # self.log(\"test/acc\", acc)\n",
    "        \n",
    "        # return {\"loss\": loss, \"outputs\": out, \"gt\": gt}\n",
    "        x, y = batch\n",
    "        logits = self(x)\n",
    "        preds = torch.argmax(logits, dim=1)\n",
    "        correct = preds == y\n",
    "\n",
    "        # Calculate accuracy for each class\n",
    "        class_correct = [0] * self.num_classes\n",
    "        class_total = [0] * self.num_classes\n",
    "        for i in range(len(y)):\n",
    "            label = y[i]\n",
    "            class_correct[label] += correct[i].item()\n",
    "            class_total[label] += 1\n",
    "\n",
    "        # Print accuracy for each class\n",
    "        for i in range(self.num_classes):\n",
    "            if class_total[i] > 0:\n",
    "                accuracy = 100 * class_correct[i] / class_total[i]\n",
    "                print(f'Test Accuracy of Class {i}: {accuracy:.2f}%')\n",
    "                print(\"Class name: \", class_names[i])\n",
    "\n",
    "        return correct.float().mean()\n",
    "    \n",
    "    def configure_optimizers(self):\n",
    "        return torch.optim.Adam(self.parameters(), lr=self.learning_rate)  \n"
   ]
  },
  {
   "cell_type": "code",
   "execution_count": 40,
   "metadata": {
    "id": "tlng_rKjAVqR"
   },
   "outputs": [
    {
     "data": {
      "text/plain": [
       "(torch.Size([32, 3, 224, 224]), torch.Size([32]))"
      ]
     },
     "execution_count": 40,
     "metadata": {},
     "output_type": "execute_result"
    }
   ],
   "source": [
    "dm = ImageClassifierModule(batch_size=32, data_dir=\"./random_dataset\")\n",
    "\n",
    "# Samples required by the custom ImagePredictionLogger callback to log image predictions.\n",
    "val_samples = next(iter(dm.val_dataloader()))\n",
    "val_imgs, val_labels = val_samples[0], val_samples[1]\n",
    "val_imgs.shape, val_labels.shape"
   ]
  },
  {
   "cell_type": "code",
   "execution_count": 41,
   "metadata": {
    "id": "Ylu4mwV65BC0"
   },
   "outputs": [
    {
     "name": "stderr",
     "output_type": "stream",
     "text": [
      "GPU available: True (cuda), used: True\n",
      "TPU available: False, using: 0 TPU cores\n",
      "IPU available: False, using: 0 IPUs\n",
      "HPU available: False, using: 0 HPUs\n",
      "/home/brina/miniconda3/envs/gpu/lib/python3.8/site-packages/pytorch_lightning/loggers/wandb.py:391: There is a wandb run already in progress and newly created instances of `WandbLogger` will reuse this run. If this is not desired, call `wandb.finish()` before instantiating `WandbLogger`.\n",
      "/home/brina/miniconda3/envs/gpu/lib/python3.8/site-packages/pytorch_lightning/callbacks/model_checkpoint.py:653: Checkpoint directory ./Retail Image Classification test - ViT/2yhdzdl9/checkpoints exists and is not empty.\n",
      "LOCAL_RANK: 0 - CUDA_VISIBLE_DEVICES: [0]\n",
      "\n",
      "  | Name              | Type               | Params\n",
      "---------------------------------------------------------\n",
      "0 | feature_extractor | VisionTransformer  | 86.6 M\n",
      "1 | classifier        | Linear             | 154 K \n",
      "2 | criterion         | CrossEntropyLoss   | 0     \n",
      "3 | accuracy          | MulticlassAccuracy | 0     \n",
      "---------------------------------------------------------\n",
      "154 K     Trainable params\n",
      "86.6 M    Non-trainable params\n",
      "86.7 M    Total params\n",
      "346.887   Total estimated model params size (MB)\n"
     ]
    },
    {
     "data": {
      "application/vnd.jupyter.widget-view+json": {
       "model_id": "",
       "version_major": 2,
       "version_minor": 0
      },
      "text/plain": [
       "Sanity Checking: |                                                                                            …"
      ]
     },
     "metadata": {},
     "output_type": "display_data"
    },
    {
     "data": {
      "application/vnd.jupyter.widget-view+json": {
       "model_id": "df7a6a42cd6347bf9183538d8e06d411",
       "version_major": 2,
       "version_minor": 0
      },
      "text/plain": [
       "Training: |                                                                                                   …"
      ]
     },
     "metadata": {},
     "output_type": "display_data"
    },
    {
     "data": {
      "application/vnd.jupyter.widget-view+json": {
       "model_id": "",
       "version_major": 2,
       "version_minor": 0
      },
      "text/plain": [
       "Validation: |                                                                                                 …"
      ]
     },
     "metadata": {},
     "output_type": "display_data"
    },
    {
     "data": {
      "application/vnd.jupyter.widget-view+json": {
       "model_id": "",
       "version_major": 2,
       "version_minor": 0
      },
      "text/plain": [
       "Validation: |                                                                                                 …"
      ]
     },
     "metadata": {},
     "output_type": "display_data"
    },
    {
     "data": {
      "application/vnd.jupyter.widget-view+json": {
       "model_id": "",
       "version_major": 2,
       "version_minor": 0
      },
      "text/plain": [
       "Validation: |                                                                                                 …"
      ]
     },
     "metadata": {},
     "output_type": "display_data"
    },
    {
     "data": {
      "application/vnd.jupyter.widget-view+json": {
       "model_id": "",
       "version_major": 2,
       "version_minor": 0
      },
      "text/plain": [
       "Validation: |                                                                                                 …"
      ]
     },
     "metadata": {},
     "output_type": "display_data"
    },
    {
     "data": {
      "application/vnd.jupyter.widget-view+json": {
       "model_id": "",
       "version_major": 2,
       "version_minor": 0
      },
      "text/plain": [
       "Validation: |                                                                                                 …"
      ]
     },
     "metadata": {},
     "output_type": "display_data"
    },
    {
     "data": {
      "application/vnd.jupyter.widget-view+json": {
       "model_id": "",
       "version_major": 2,
       "version_minor": 0
      },
      "text/plain": [
       "Validation: |                                                                                                 …"
      ]
     },
     "metadata": {},
     "output_type": "display_data"
    },
    {
     "data": {
      "application/vnd.jupyter.widget-view+json": {
       "model_id": "",
       "version_major": 2,
       "version_minor": 0
      },
      "text/plain": [
       "Validation: |                                                                                                 …"
      ]
     },
     "metadata": {},
     "output_type": "display_data"
    },
    {
     "data": {
      "application/vnd.jupyter.widget-view+json": {
       "model_id": "",
       "version_major": 2,
       "version_minor": 0
      },
      "text/plain": [
       "Validation: |                                                                                                 …"
      ]
     },
     "metadata": {},
     "output_type": "display_data"
    },
    {
     "data": {
      "application/vnd.jupyter.widget-view+json": {
       "model_id": "",
       "version_major": 2,
       "version_minor": 0
      },
      "text/plain": [
       "Validation: |                                                                                                 …"
      ]
     },
     "metadata": {},
     "output_type": "display_data"
    },
    {
     "data": {
      "application/vnd.jupyter.widget-view+json": {
       "model_id": "",
       "version_major": 2,
       "version_minor": 0
      },
      "text/plain": [
       "Validation: |                                                                                                 …"
      ]
     },
     "metadata": {},
     "output_type": "display_data"
    },
    {
     "data": {
      "application/vnd.jupyter.widget-view+json": {
       "model_id": "",
       "version_major": 2,
       "version_minor": 0
      },
      "text/plain": [
       "Validation: |                                                                                                 …"
      ]
     },
     "metadata": {},
     "output_type": "display_data"
    },
    {
     "data": {
      "application/vnd.jupyter.widget-view+json": {
       "model_id": "",
       "version_major": 2,
       "version_minor": 0
      },
      "text/plain": [
       "Validation: |                                                                                                 …"
      ]
     },
     "metadata": {},
     "output_type": "display_data"
    },
    {
     "data": {
      "application/vnd.jupyter.widget-view+json": {
       "model_id": "",
       "version_major": 2,
       "version_minor": 0
      },
      "text/plain": [
       "Validation: |                                                                                                 …"
      ]
     },
     "metadata": {},
     "output_type": "display_data"
    },
    {
     "data": {
      "application/vnd.jupyter.widget-view+json": {
       "model_id": "",
       "version_major": 2,
       "version_minor": 0
      },
      "text/plain": [
       "Validation: |                                                                                                 …"
      ]
     },
     "metadata": {},
     "output_type": "display_data"
    },
    {
     "data": {
      "application/vnd.jupyter.widget-view+json": {
       "model_id": "",
       "version_major": 2,
       "version_minor": 0
      },
      "text/plain": [
       "Validation: |                                                                                                 …"
      ]
     },
     "metadata": {},
     "output_type": "display_data"
    },
    {
     "data": {
      "application/vnd.jupyter.widget-view+json": {
       "model_id": "",
       "version_major": 2,
       "version_minor": 0
      },
      "text/plain": [
       "Validation: |                                                                                                 …"
      ]
     },
     "metadata": {},
     "output_type": "display_data"
    },
    {
     "data": {
      "application/vnd.jupyter.widget-view+json": {
       "model_id": "",
       "version_major": 2,
       "version_minor": 0
      },
      "text/plain": [
       "Validation: |                                                                                                 …"
      ]
     },
     "metadata": {},
     "output_type": "display_data"
    },
    {
     "data": {
      "application/vnd.jupyter.widget-view+json": {
       "model_id": "",
       "version_major": 2,
       "version_minor": 0
      },
      "text/plain": [
       "Validation: |                                                                                                 …"
      ]
     },
     "metadata": {},
     "output_type": "display_data"
    },
    {
     "data": {
      "application/vnd.jupyter.widget-view+json": {
       "model_id": "",
       "version_major": 2,
       "version_minor": 0
      },
      "text/plain": [
       "Validation: |                                                                                                 …"
      ]
     },
     "metadata": {},
     "output_type": "display_data"
    },
    {
     "data": {
      "application/vnd.jupyter.widget-view+json": {
       "model_id": "",
       "version_major": 2,
       "version_minor": 0
      },
      "text/plain": [
       "Validation: |                                                                                                 …"
      ]
     },
     "metadata": {},
     "output_type": "display_data"
    },
    {
     "data": {
      "application/vnd.jupyter.widget-view+json": {
       "model_id": "",
       "version_major": 2,
       "version_minor": 0
      },
      "text/plain": [
       "Validation: |                                                                                                 …"
      ]
     },
     "metadata": {},
     "output_type": "display_data"
    },
    {
     "data": {
      "application/vnd.jupyter.widget-view+json": {
       "model_id": "",
       "version_major": 2,
       "version_minor": 0
      },
      "text/plain": [
       "Validation: |                                                                                                 …"
      ]
     },
     "metadata": {},
     "output_type": "display_data"
    },
    {
     "name": "stderr",
     "output_type": "stream",
     "text": [
      "Restoring states from the checkpoint path at ./Retail Image Classification test - ViT/2yhdzdl9/checkpoints/epoch=21-step=968.ckpt\n",
      "LOCAL_RANK: 0 - CUDA_VISIBLE_DEVICES: [0]\n",
      "Loaded model weights from the checkpoint at ./Retail Image Classification test - ViT/2yhdzdl9/checkpoints/epoch=21-step=968.ckpt\n"
     ]
    },
    {
     "data": {
      "application/vnd.jupyter.widget-view+json": {
       "model_id": "ecb3c47413f24622a6aae74c35befb39",
       "version_major": 2,
       "version_minor": 0
      },
      "text/plain": [
       "Testing: |                                                                                                    …"
      ]
     },
     "metadata": {},
     "output_type": "display_data"
    },
    {
     "name": "stdout",
     "output_type": "stream",
     "text": [
      "Test Accuracy of Class 0: 100.00%\n",
      "Class name:  Seasir丁香料酒\n",
      "Test Accuracy of Class 1: 100.00%\n",
      "Class name:  七匹狼（白）\n",
      "Test Accuracy of Class 2: 100.00%\n",
      "Class name:  万宝路（硬红2.0）\n",
      "Test Accuracy of Class 2: 77.78%\n",
      "Class name:  万宝路（硬红2.0）\n",
      "Test Accuracy of Class 3: 100.00%\n",
      "Class name:  三峡（MX10）\n",
      "Test Accuracy of Class 4: 88.89%\n",
      "Class name:  三沙（细支）\n",
      "Test Accuracy of Class 5: 80.00%\n",
      "Class name:  中粮悦活芒果U格乳酸菌果汁\n",
      "Test Accuracy of Class 6: 100.00%\n",
      "Class name:  九朵玫瑰花本素饮水蜜桃味\n",
      "Test Accuracy of Class 6: 86.67%\n",
      "Class name:  九朵玫瑰花本素饮水蜜桃味\n",
      "Test Accuracy of Class 7: 100.00%\n",
      "Class name:  九朵玫瑰花本素饮西柚味\n",
      "Test Accuracy of Class 8: 100.00%\n",
      "Class name:  乳酸菌600亿低糖原味435ml\n",
      "Test Accuracy of Class 8: 100.00%\n",
      "Class name:  乳酸菌600亿低糖原味435ml\n",
      "Test Accuracy of Class 9: 100.00%\n",
      "Class name:  云烟（9+1大重九）\n",
      "Test Accuracy of Class 10: 100.00%\n",
      "Class name:  云烟（百味人生）\n",
      "Test Accuracy of Class 11: 100.00%\n",
      "Class name:  伊利QQ星营养果浆芒果百香果桃味100ml_5\n",
      "Test Accuracy of Class 11: 100.00%\n",
      "Class name:  伊利QQ星营养果浆芒果百香果桃味100ml_5\n",
      "Test Accuracy of Class 12: 80.00%\n",
      "Class name:  伊利伊然乳矿轻饮水蜜桃味\n",
      "Test Accuracy of Class 13: 94.12%\n",
      "Class name:  伊利伊然乳矿轻饮牛乳味\n",
      "Test Accuracy of Class 13: 100.00%\n",
      "Class name:  伊利伊然乳矿轻饮牛乳味\n",
      "Test Accuracy of Class 14: 88.89%\n",
      "Class name:  伊利味可滋巧克力牛奶240ml\n",
      "Test Accuracy of Class 15: 100.00%\n",
      "Class name:  伊利安慕希蓝莓味酸奶205g（箱装）\n",
      "Test Accuracy of Class 16: 100.00%\n",
      "Class name:  伊利畅轻黄桃酸奶450g\n",
      "Test Accuracy of Class 17: 100.00%\n",
      "Class name:  伊利谷粒多核桃燕麦牛奶200ml\n",
      "Test Accuracy of Class 17: 100.00%\n",
      "Class name:  伊利谷粒多核桃燕麦牛奶200ml\n",
      "Test Accuracy of Class 18: 100.00%\n",
      "Class name:  优珍气泡水百香果凤梨味\n",
      "Test Accuracy of Class 19: 100.00%\n",
      "Class name:  优酪乳唯果粒组合装\n",
      "Test Accuracy of Class 20: 100.00%\n",
      "Class name:  六个核桃无糖\n",
      "Test Accuracy of Class 21: 100.00%\n",
      "Class name:  六神清透凉爽沐浴露\n",
      "Test Accuracy of Class 22: 100.00%\n",
      "Class name:  兰州（桥）\n",
      "Test Accuracy of Class 23: 100.00%\n",
      "Class name:  兰州（硬如意）\n",
      "Test Accuracy of Class 23: 100.00%\n",
      "Class name:  兰州（硬如意）\n",
      "Test Accuracy of Class 24: 80.00%\n",
      "Class name:  兰州（硬经典）\n",
      "Test Accuracy of Class 25: 100.00%\n",
      "Class name:  兰州（软飞天）\n",
      "Test Accuracy of Class 26: 100.00%\n",
      "Class name:  农家柴火锅巴\n",
      "Test Accuracy of Class 27: 100.00%\n",
      "Class name:  凉白开\n",
      "Test Accuracy of Class 28: 100.00%\n",
      "Class name:  凯撒顿姆原尊\n",
      "Test Accuracy of Class 28: 100.00%\n",
      "Class name:  凯撒顿姆原尊\n",
      "Test Accuracy of Class 29: 100.00%\n",
      "Class name:  利群（休闲）\n",
      "Test Accuracy of Class 30: 100.00%\n",
      "Class name:  利群（长嘴）\n",
      "Test Accuracy of Class 30: 100.00%\n",
      "Class name:  利群（长嘴）\n",
      "Test Accuracy of Class 31: 100.00%\n",
      "Class name:  千岛湖9度金罐塑封膜组合装\n",
      "Test Accuracy of Class 32: 83.33%\n",
      "Class name:  南京（细支九五）\n",
      "Test Accuracy of Class 33: 60.00%\n",
      "Class name:  厨邦蒸鱼豉油\n",
      "Test Accuracy of Class 33: 100.00%\n",
      "Class name:  厨邦蒸鱼豉油\n",
      "Test Accuracy of Class 34: 57.14%\n",
      "Class name:  双喜（国喜细支）\n",
      "Test Accuracy of Class 35: 60.00%\n",
      "Class name:  双喜（大国喜）\n",
      "Test Accuracy of Class 36: 100.00%\n",
      "Class name:  双喜（好日子欢乐颂）\n",
      "Test Accuracy of Class 37: 100.00%\n",
      "Class name:  双喜（珍藏）\n",
      "Test Accuracy of Class 38: 100.00%\n",
      "Class name:  双喜（硬红五叶神）\n",
      "Test Accuracy of Class 39: 100.00%\n",
      "Class name:  双喜（硬经典1906）\n",
      "Test Accuracy of Class 39: 100.00%\n",
      "Class name:  双喜（硬经典1906）\n",
      "Test Accuracy of Class 40: 100.00%\n",
      "Class name:  古井大曲500ml\n",
      "Test Accuracy of Class 41: 100.00%\n",
      "Class name:  可口可乐淳舍茶无糖\n",
      "Test Accuracy of Class 41: 100.00%\n",
      "Class name:  可口可乐淳舍茶无糖\n",
      "Test Accuracy of Class 42: 100.00%\n",
      "Class name:  吉香居野山椒牛肉酱\n",
      "Test Accuracy of Class 43: 100.00%\n",
      "Class name:  吉香居香葱豆豉\n",
      "Test Accuracy of Class 43: 100.00%\n",
      "Class name:  吉香居香葱豆豉\n",
      "Test Accuracy of Class 44: 100.00%\n",
      "Class name:  吉香居香辣三丝\n",
      "Test Accuracy of Class 45: 88.89%\n",
      "Class name:  和其正凉茶罐装\n",
      "Test Accuracy of Class 46: 100.00%\n",
      "Class name:  喜力啤酒330ml（件_12）组合装\n",
      "Test Accuracy of Class 47: 100.00%\n",
      "Class name:  多芬男士护理水动冰爽男士沐浴露400g\n",
      "Test Accuracy of Class 47: 100.00%\n",
      "Class name:  多芬男士护理水动冰爽男士沐浴露400g\n",
      "Test Accuracy of Class 48: 100.00%\n",
      "Class name:  大梁山9度红啤\n",
      "Test Accuracy of Class 49: 100.00%\n",
      "Class name:  天子（五粮香20年）\n",
      "Test Accuracy of Class 50: 100.00%\n",
      "Class name:  天子（五粮香30年）\n",
      "Test Accuracy of Class 50: 100.00%\n",
      "Class name:  天子（五粮香30年）\n",
      "Test Accuracy of Class 51: 100.00%\n",
      "Class name:  天子（千里江山细支）\n",
      "Test Accuracy of Class 52: 100.00%\n",
      "Class name:  女儿红烧酒50度3L\n",
      "Test Accuracy of Class 53: 100.00%\n",
      "Class name:  好太太清香米醋\n",
      "Test Accuracy of Class 53: 100.00%\n",
      "Class name:  好太太清香米醋\n",
      "Test Accuracy of Class 54: 100.00%\n",
      "Class name:  好猫（招财进宝）\n",
      "Test Accuracy of Class 55: 100.00%\n",
      "Class name:  好猫（细支长乐）\n",
      "Test Accuracy of Class 56: 100.00%\n",
      "Class name:  妮维雅男士洗面奶冰极\n",
      "Test Accuracy of Class 57: 100.00%\n",
      "Class name:  妮维雅男士洗面焕白亮肤100g\n",
      "Test Accuracy of Class 57: 100.00%\n",
      "Class name:  妮维雅男士洗面焕白亮肤100g\n",
      "Test Accuracy of Class 58: 100.00%\n",
      "Class name:  妮维雅男士洗面碳泥抗痘150\n",
      "Test Accuracy of Class 59: 100.00%\n",
      "Class name:  威猛先生每日去油除污喷雾350g\n",
      "Test Accuracy of Class 60: 100.00%\n",
      "Class name:  威猛先生洁厕液900g\n",
      "Test Accuracy of Class 61: 100.00%\n",
      "Class name:  威猛先生浴室清洁剂500g\n",
      "Test Accuracy of Class 62: 94.12%\n",
      "Class name:  娃哈哈格瓦斯\n",
      "Test Accuracy of Class 63: 100.00%\n",
      "Class name:  娇子（黑）\n",
      "Test Accuracy of Class 64: 100.00%\n",
      "Class name:  宣酒\n",
      "Test Accuracy of Class 64: 100.00%\n",
      "Class name:  宣酒\n",
      "Test Accuracy of Class 65: 90.00%\n",
      "Class name:  川南袋装下饭菜103g\n",
      "Test Accuracy of Class 66: 86.67%\n",
      "Class name:  川南袋装红油榨菜103g\n",
      "Test Accuracy of Class 67: 100.00%\n",
      "Class name:  康师傅冰糖柠檬\n",
      "Test Accuracy of Class 67: 100.00%\n",
      "Class name:  康师傅冰糖柠檬\n",
      "Test Accuracy of Class 68: 90.00%\n",
      "Class name:  延安（1935）\n",
      "Test Accuracy of Class 69: 85.71%\n",
      "Class name:  强生婴儿滋养洗发露250\n",
      "Test Accuracy of Class 69: 85.71%\n",
      "Class name:  强生婴儿滋养洗发露250\n",
      "Test Accuracy of Class 70: 100.00%\n",
      "Class name:  怡宝百香蜜水\n",
      "Test Accuracy of Class 71: 100.00%\n",
      "Class name:  恒大（烟魁1949中支）\n",
      "Test Accuracy of Class 72: 100.00%\n",
      "Class name:  恒顺老酒\n",
      "Test Accuracy of Class 73: 100.00%\n",
      "Class name:  恒顺金标料酒\n",
      "Test Accuracy of Class 74: 100.00%\n",
      "Class name:  暴下饭(橙色)\n",
      "Test Accuracy of Class 75: 100.00%\n",
      "Class name:  果的每日茶柠檬绿茶\n",
      "Test Accuracy of Class 75: 100.00%\n",
      "Class name:  果的每日茶柠檬绿茶\n",
      "Test Accuracy of Class 76: 100.00%\n",
      "Class name:  椰泰蓝莓果汁饮料\n",
      "Test Accuracy of Class 77: 88.89%\n",
      "Class name:  欧莱雅精油润养洗发露400\n",
      "Test Accuracy of Class 78: 100.00%\n",
      "Class name:  泰山（平安）\n",
      "Test Accuracy of Class 79: 100.00%\n",
      "Class name:  泰山（心悦）\n",
      "Test Accuracy of Class 79: 100.00%\n",
      "Class name:  泰山（心悦）\n",
      "Test Accuracy of Class 80: 88.89%\n",
      "Class name:  泰山（红将军）\n",
      "Test Accuracy of Class 81: 100.00%\n",
      "Class name:  泰山（茉莉香韵）\n",
      "Test Accuracy of Class 82: 100.00%\n",
      "Class name:  泸州老窖42度500ml\n",
      "Test Accuracy of Class 83: 100.00%\n",
      "Class name:  泸州老窖52度鸿运STAR精制头曲500ml\n",
      "Test Accuracy of Class 83: 100.00%\n",
      "Class name:  泸州老窖52度鸿运STAR精制头曲500ml\n",
      "Test Accuracy of Class 84: 100.00%\n",
      "Class name:  海天黑米醋\n",
      "Test Accuracy of Class 85: 100.00%\n",
      "Class name:  海底捞酸菜小龙虾调味料\n",
      "Test Accuracy of Class 86: 100.00%\n",
      "Class name:  海底捞香辣小龙虾调味料\n",
      "Test Accuracy of Class 86: 100.00%\n",
      "Class name:  海底捞香辣小龙虾调味料\n",
      "Test Accuracy of Class 87: 100.00%\n",
      "Class name:  海底捞麻辣小龙虾调味料\n",
      "Test Accuracy of Class 88: 77.78%\n",
      "Class name:  海神黑米料酒\n",
      "Test Accuracy of Class 89: 100.00%\n",
      "Class name:  海飞丝劲爽蓬松洗发露750\n",
      "Test Accuracy of Class 89: 100.00%\n",
      "Class name:  海飞丝劲爽蓬松洗发露750\n",
      "Test Accuracy of Class 90: 88.89%\n",
      "Class name:  海飞丝柔润滋养型去屑护发素200\n",
      "Test Accuracy of Class 91: 92.86%\n",
      "Class name:  海飞丝清爽去油型去屑洗发露400\n",
      "Test Accuracy of Class 91: 100.00%\n",
      "Class name:  海飞丝清爽去油型去屑洗发露400\n",
      "Test Accuracy of Class 92: 88.89%\n",
      "Class name:  清扬男士清爽控油洗发露175\n",
      "Test Accuracy of Class 93: 100.00%\n",
      "Class name:  湖羊黄豆酱油桶装\n",
      "Test Accuracy of Class 94: 100.00%\n",
      "Class name:  潘婷乌黑莹亮洗发露400\n",
      "Test Accuracy of Class 95: 100.00%\n",
      "Class name:  燕京啤酒组合装\n",
      "Test Accuracy of Class 95: 100.00%\n",
      "Class name:  燕京啤酒组合装\n",
      "Test Accuracy of Class 96: 100.00%\n",
      "Class name:  爱喜（薄荷）\n",
      "Test Accuracy of Class 97: 100.00%\n",
      "Class name:  牛栏山二锅头红白绿瓶500ml\n",
      "Test Accuracy of Class 98: 100.00%\n",
      "Class name:  玉兔清香米醋\n",
      "Test Accuracy of Class 98: 100.00%\n",
      "Class name:  玉兔清香米醋\n",
      "Test Accuracy of Class 99: 100.00%\n",
      "Class name:  玉兰油水养防晒美白霜50g\n",
      "Test Accuracy of Class 100: 100.00%\n",
      "Class name:  白沙（硬和天下双中支）\n",
      "Test Accuracy of Class 101: 100.00%\n",
      "Class name:  真龙（凌云）\n",
      "Test Accuracy of Class 102: 100.00%\n",
      "Class name:  真龙（祥云）\n",
      "Test Accuracy of Class 102: 100.00%\n",
      "Class name:  真龙（祥云）\n",
      "Test Accuracy of Class 103: 100.00%\n",
      "Class name:  碧浪日本抑菌3kg\n",
      "Test Accuracy of Class 104: 100.00%\n",
      "Class name:  禾然有机山茶油\n",
      "Test Accuracy of Class 105: 100.00%\n",
      "Class name:  稻花香红字\n",
      "Test Accuracy of Class 106: 100.00%\n",
      "Class name:  立白洗洁精500（金桔）\n",
      "Test Accuracy of Class 106: 100.00%\n",
      "Class name:  立白洗洁精500（金桔）\n",
      "Test Accuracy of Class 107: 100.00%\n",
      "Class name:  红双喜（南洋1905）\n",
      "Test Accuracy of Class 108: 100.00%\n",
      "Class name:  红双喜（爱国）\n",
      "Test Accuracy of Class 109: 88.89%\n",
      "Class name:  红双喜（硬上海）\n",
      "Test Accuracy of Class 110: 100.00%\n",
      "Class name:  红双喜（硬）\n",
      "Test Accuracy of Class 110: 90.91%\n",
      "Class name:  红双喜（硬）\n",
      "Test Accuracy of Class 111: 100.00%\n",
      "Class name:  红塔山（新时代）\n",
      "Test Accuracy of Class 112: 100.00%\n",
      "Class name:  红星二锅头52度500ml\n",
      "Test Accuracy of Class 112: 100.00%\n",
      "Class name:  红星二锅头52度500ml\n",
      "Test Accuracy of Class 113: 100.00%\n",
      "Class name:  美加净水润保湿防晒乳\n",
      "Test Accuracy of Class 114: 100.00%\n",
      "Class name:  老兵鱼头剁椒\n",
      "Test Accuracy of Class 115: 100.00%\n",
      "Class name:  老才臣饺子系列\n",
      "Test Accuracy of Class 115: 100.00%\n",
      "Class name:  老才臣饺子系列\n",
      "Test Accuracy of Class 116: 100.00%\n",
      "Class name:  老白干青花瓷\n",
      "Test Accuracy of Class 117: 100.00%\n",
      "Class name:  芙蓉王（硬新版）\n",
      "Test Accuracy of Class 118: 100.00%\n",
      "Class name:  芙蓉王（硬蓝新版）\n",
      "Test Accuracy of Class 118: 100.00%\n",
      "Class name:  芙蓉王（硬蓝新版）\n",
      "Test Accuracy of Class 119: 100.00%\n",
      "Class name:  茅台王子酒\n",
      "Test Accuracy of Class 120: 100.00%\n",
      "Class name:  茅台迎宾酒500ml\n",
      "Test Accuracy of Class 121: 50.00%\n",
      "Class name:  茅台酒\n",
      "Test Accuracy of Class 121: 50.00%\n",
      "Class name:  茅台酒\n",
      "Test Accuracy of Class 122: 100.00%\n",
      "Class name:  蓝月亮衣领净\n",
      "Test Accuracy of Class 123: 100.00%\n",
      "Class name:  西凤酒52度铂金年份封藏500ml\n",
      "Test Accuracy of Class 124: 85.71%\n",
      "Class name:  贝纳颂经典意式风味罐装\n",
      "Test Accuracy of Class 124: 100.00%\n",
      "Class name:  贝纳颂经典意式风味罐装\n",
      "Test Accuracy of Class 125: 100.00%\n",
      "Class name:  贵烟（甜乡洞藏）\n",
      "Test Accuracy of Class 126: 100.00%\n",
      "Class name:  金桥（双爆）\n",
      "Test Accuracy of Class 126: 100.00%\n",
      "Class name:  金桥（双爆）\n",
      "Test Accuracy of Class 127: 100.00%\n",
      "Class name:  金沙河龙须面\n",
      "Test Accuracy of Class 128: 83.33%\n",
      "Class name:  金澳门\n",
      "Test Accuracy of Class 129: 100.00%\n",
      "Class name:  金菜地净腿肉瘦肉酱\n",
      "Test Accuracy of Class 129: 100.00%\n",
      "Class name:  金菜地净腿肉瘦肉酱\n",
      "Test Accuracy of Class 130: 90.91%\n",
      "Class name:  钻石（双中支荷花）\n",
      "Test Accuracy of Class 131: 100.00%\n",
      "Class name:  长城（10支132秘制）\n",
      "Test Accuracy of Class 132: 100.00%\n",
      "Class name:  长城（迷你香草）\n",
      "Test Accuracy of Class 133: 100.00%\n",
      "Class name:  长白山（红）\n",
      "Test Accuracy of Class 134: 50.00%\n",
      "Class name:  长白山（软红）\n",
      "Test Accuracy of Class 134: 100.00%\n",
      "Class name:  长白山（软红）\n",
      "Test Accuracy of Class 135: 100.00%\n",
      "Class name:  阿里山（天韵）\n",
      "Test Accuracy of Class 136: 100.00%\n",
      "Class name:  阿里山（宝相花硬包）\n",
      "Test Accuracy of Class 137: 100.00%\n",
      "Class name:  雪碧箱装\n",
      "Test Accuracy of Class 138: 100.00%\n",
      "Class name:  雪花勇闯天涯丛林迷彩罐啤\n",
      "Test Accuracy of Class 138: 100.00%\n",
      "Class name:  雪花勇闯天涯丛林迷彩罐啤\n",
      "Test Accuracy of Class 139: 100.00%\n",
      "Class name:  雪花天粹牛卡纸组合装\n",
      "Test Accuracy of Class 140: 100.00%\n",
      "Class name:  雪花脸谱花脸系列11.5度500罐啤\n",
      "Test Accuracy of Class 140: 100.00%\n",
      "Class name:  雪花脸谱花脸系列11.5度500罐啤\n",
      "Test Accuracy of Class 141: 100.00%\n",
      "Class name:  青岛啤酒冰醇600ml瓶装箱装\n",
      "Test Accuracy of Class 142: 100.00%\n",
      "Class name:  飘柔清爽去油型洗发露400\n",
      "Test Accuracy of Class 143: 90.00%\n",
      "Class name:  鲁花糯米香醋\n",
      "Test Accuracy of Class 144: 100.00%\n",
      "Class name:  黄山（中国画细支）\n",
      "Test Accuracy of Class 144: 100.00%\n",
      "Class name:  黄山（中国画细支）\n",
      "Test Accuracy of Class 145: 100.00%\n",
      "Class name:  黄山（徽商新概念细支）\n",
      "Test Accuracy of Class 146: 75.00%\n",
      "Class name:  黄山（硬记忆）\n",
      "Test Accuracy of Class 147: 100.00%\n",
      "Class name:  黄山（软大壹品）\n",
      "Test Accuracy of Class 148: 80.00%\n",
      "Class name:  黄金叶（冰爽）\n",
      "Test Accuracy of Class 149: 100.00%\n",
      "Class name:  黄金叶（国色细支）\n",
      "Test Accuracy of Class 150: 100.00%\n",
      "Class name:  黄金叶（天尊）\n",
      "Test Accuracy of Class 151: 100.00%\n",
      "Class name:  黄鹤楼（硬天骄圣地细支）\n",
      "Test Accuracy of Class 152: 93.75%\n",
      "Class name:  黄鹤楼（硬峡谷情细支）\n",
      "Test Accuracy of Class 153: 100.00%\n",
      "Class name:  黄鹤楼（雪之景3号）\n"
     ]
    },
    {
     "data": {
      "application/vnd.jupyter.widget-view+json": {
       "model_id": "",
       "version_major": 2,
       "version_minor": 0
      },
      "text/plain": [
       "VBox(children=(Label(value='97.359 MB of 97.359 MB uploaded\\r'), FloatProgress(value=1.0, max=1.0)))"
      ]
     },
     "metadata": {},
     "output_type": "display_data"
    },
    {
     "data": {
      "text/html": [
       "<style>\n",
       "    table.wandb td:nth-child(1) { padding: 0 10px; text-align: left ; width: auto;} td:nth-child(2) {text-align: left ; width: 100%}\n",
       "    .wandb-row { display: flex; flex-direction: row; flex-wrap: wrap; justify-content: flex-start; width: 100% }\n",
       "    .wandb-col { display: flex; flex-direction: column; flex-basis: 100%; flex: 1; padding: 10px; }\n",
       "    </style>\n",
       "<div class=\"wandb-row\"><div class=\"wandb-col\"><h3>Run history:</h3><br/><table class=\"wandb\"><tr><td>epoch</td><td>▁▁▂▂▂▂▃▃▃▄▄▄▅▅▅▅▅▆▆▆▇▇▇██▁▁▂▂▂▂▃▃▃▄▄▄▅▅▅</td></tr><tr><td>train/acc</td><td>▁▃▃▄▇▄▆▇▇█▇▇█▇▇▇▆▇████▇▇▇▁▄▃▅▆▆▆▇▇▇▇▇█▇▇</td></tr><tr><td>train/loss</td><td>█▇▆▅▄▄▃▃▂▂▂▂▁▂▁▁▂▂▂▁▁▁▁▁▁█▆▆▅▄▄▃▂▂▂▂▂▂▂▂</td></tr><tr><td>trainer/global_step</td><td>▁▁▂▂▂▂▃▃▃▄▄▄▄▅▅▅▆▆▆▇▇▇▇██▁▁▁▂▂▂▃▃▃▄▄▄▄▅▅</td></tr><tr><td>val/acc</td><td>▁▂▃▅▅▆▆▆▇▇▇▇▇▇▇▇█▇▇█▇████▁▂▄▅▆▆▆▇▇▆▇▇█▇█</td></tr><tr><td>val/loss</td><td>█▇▆▅▄▄▃▃▃▂▂▂▂▂▂▂▁▁▁▁▁▁▁▁▁█▇▆▅▄▄▃▃▂▂▂▂▂▂▂</td></tr></table><br/></div><div class=\"wandb-col\"><h3>Run summary:</h3><br/><table class=\"wandb\"><tr><td>epoch</td><td>21</td></tr><tr><td>train/acc</td><td>0.875</td></tr><tr><td>train/loss</td><td>0.81797</td></tr><tr><td>trainer/global_step</td><td>967</td></tr><tr><td>val/acc</td><td>0.85256</td></tr><tr><td>val/loss</td><td>1.04985</td></tr></table><br/></div></div>"
      ],
      "text/plain": [
       "<IPython.core.display.HTML object>"
      ]
     },
     "metadata": {},
     "output_type": "display_data"
    },
    {
     "data": {
      "text/html": [
       " View run <strong style=\"color:#cdcd00\">worldly-snowball-4</strong> at: <a href='https://wandb.ai/brinashong/Retail%20Image%20Classification%20test%20-%20ViT/runs/2yhdzdl9' target=\"_blank\">https://wandb.ai/brinashong/Retail%20Image%20Classification%20test%20-%20ViT/runs/2yhdzdl9</a><br/> View job at <a href='https://wandb.ai/brinashong/Retail%20Image%20Classification%20test%20-%20ViT/jobs/QXJ0aWZhY3RDb2xsZWN0aW9uOjE2MjY3NDc0Ng==/version_details/v2' target=\"_blank\">https://wandb.ai/brinashong/Retail%20Image%20Classification%20test%20-%20ViT/jobs/QXJ0aWZhY3RDb2xsZWN0aW9uOjE2MjY3NDc0Ng==/version_details/v2</a><br/>Synced 6 W&B file(s), 1952 media file(s), 0 artifact file(s) and 0 other file(s)"
      ],
      "text/plain": [
       "<IPython.core.display.HTML object>"
      ]
     },
     "metadata": {},
     "output_type": "display_data"
    },
    {
     "data": {
      "text/html": [
       "Find logs at: <code>./wandb/run-20240415_132626-2yhdzdl9/logs</code>"
      ],
      "text/plain": [
       "<IPython.core.display.HTML object>"
      ]
     },
     "metadata": {},
     "output_type": "display_data"
    }
   ],
   "source": [
    "model = LitModel((3, 224, 224), dm.num_classes)\n",
    "\n",
    "# Initialize wandb logger\n",
    "wandb_logger = WandbLogger(project='Retail Image Classification test - ViT', job_type='train')\n",
    "\n",
    "# Initialize Callbacks\n",
    "early_stop_callback = pl.callbacks.EarlyStopping(monitor=\"val/loss\")\n",
    "checkpoint_callback = pl.callbacks.ModelCheckpoint()\n",
    "\n",
    "# Initialize a trainer\n",
    "trainer = pl.Trainer(max_epochs=100,\n",
    "                     accelerator=\"auto\",\n",
    "                     logger=wandb_logger,\n",
    "                     callbacks=[early_stop_callback,\n",
    "                                ImagePredictionLogger(val_samples),\n",
    "                                checkpoint_callback],\n",
    "                     )\n",
    "\n",
    "# Train the model ⚡🚅⚡\n",
    "trainer.fit(model, dm)\n",
    "\n",
    "# Evaluate the model on the held-out test set ⚡⚡\n",
    "trainer.test(dataloaders=dm.test_dataloader())\n",
    "\n",
    "# Close wandb run\n",
    "wandb.finish()"
   ]
  },
  {
   "cell_type": "code",
   "execution_count": null,
   "metadata": {},
   "outputs": [],
   "source": []
  }
 ],
 "metadata": {
  "accelerator": "GPU",
  "colab": {
   "provenance": []
  },
  "kernelspec": {
   "display_name": "Python 3 (ipykernel)",
   "language": "python",
   "name": "python3"
  },
  "language_info": {
   "codemirror_mode": {
    "name": "ipython",
    "version": 3
   },
   "file_extension": ".py",
   "mimetype": "text/x-python",
   "name": "python",
   "nbconvert_exporter": "python",
   "pygments_lexer": "ipython3",
   "version": "3.8.18"
  }
 },
 "nbformat": 4,
 "nbformat_minor": 4
}
