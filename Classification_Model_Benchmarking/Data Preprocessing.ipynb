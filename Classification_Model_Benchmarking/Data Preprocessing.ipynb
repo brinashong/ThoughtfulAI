{
 "cells": [
  {
   "cell_type": "markdown",
   "id": "369900f0-a437-4844-8bbb-19b3bfacb172",
   "metadata": {},
   "source": [
    "## Data Preprocessing"
   ]
  },
  {
   "cell_type": "code",
   "execution_count": 2,
   "id": "87f6eee2-0a4a-4b2b-a58a-aabf11bef6f4",
   "metadata": {},
   "outputs": [],
   "source": [
    "import os\n",
    "import shutil"
   ]
  },
  {
   "cell_type": "code",
   "execution_count": 26,
   "id": "f6453901-f75a-4b60-8812-3c36e39d953f",
   "metadata": {},
   "outputs": [],
   "source": [
    "def categorize_dataset(root_dir, threshold):\n",
    "    data_train= os.path.join(root_dir, \"dataset/train\")\n",
    "    data_test = os.path.join(root_dir, \"dataset/test\")\n",
    "    small_train = os.path.join(root_dir, \"small_dataset/train\")\n",
    "    small_test = os.path.join(root_dir, \"small_dataset/test\")\n",
    "    large_train = os.path.join(root_dir, \"large_dataset/train\")\n",
    "    large_test = os.path.join(root_dir, \"large_dataset/test\")\n",
    "\n",
    "    os.makedirs(small_train)\n",
    "    os.makedirs(small_test)\n",
    "    os.makedirs(large_train)\n",
    "    os.makedirs(large_test)\n",
    "\n",
    "    small_count = 0\n",
    "    large_count = 0\n",
    "    for subdir in os.listdir(data_train):\n",
    "        subdir_train_path = os.path.join(data_train, subdir)\n",
    "        subdir_test_path = os.path.join(data_test, subdir)\n",
    "        if os.path.isdir(subdir_train_path):\n",
    "            num_files = len([name for name in os.listdir(subdir_train_path) if os.path.isfile(os.path.join(subdir_train_path, name))])\n",
    "            if num_files < threshold:\n",
    "                shutil.copytree(subdir_train_path, os.path.join(small_train, subdir))\n",
    "                shutil.copytree(subdir_test_path, os.path.join(small_test, subdir))\n",
    "                small_count += 1\n",
    "            else:\n",
    "                shutil.copytree(subdir_train_path, os.path.join(large_train, subdir))\n",
    "                shutil.copytree(subdir_test_path, os.path.join(large_test, subdir))\n",
    "                large_count += 1\n",
    "\n",
    "    print(\"small_count: \", small_count)\n",
    "    print(\"large_count: \", large_count)"
   ]
  },
  {
   "cell_type": "code",
   "execution_count": 28,
   "id": "0eaf2571-4c99-43d8-86cc-30fa77b384be",
   "metadata": {},
   "outputs": [
    {
     "name": "stdout",
     "output_type": "stream",
     "text": [
      "small_count:  2229\n",
      "large_count:  155\n"
     ]
    }
   ],
   "source": [
    "root_dir = \".\"\n",
    "categorize_dataset(root_dir, 500)"
   ]
  },
  {
   "cell_type": "code",
   "execution_count": 12,
   "id": "81322ce7-9884-4ba8-870f-74fe66091217",
   "metadata": {},
   "outputs": [
    {
     "name": "stdout",
     "output_type": "stream",
     "text": [
      "count:  904\n"
     ]
    }
   ],
   "source": [
    "root_dir = \".\"\n",
    "categorize_small_dataset(root_dir, 20)"
   ]
  },
  {
   "cell_type": "code",
   "execution_count": 5,
   "id": "f7f57515-9f74-4777-a876-907bfeaa3e10",
   "metadata": {},
   "outputs": [],
   "source": [
    "import os\n",
    "import shutil\n",
    "\n",
    "def categorize_small_dataset(root_dir, threshold):\n",
    "    vsmall_train = os.path.join(root_dir, \"vsmall_dataset/train\")\n",
    "    vsmall_test = os.path.join(root_dir, \"vsmall_dataset/test\")\n",
    "\n",
    "    os.makedirs(vsmall_train)\n",
    "    os.makedirs(vsmall_test)\n",
    "\n",
    "    count = 0\n",
    "    for subdir in os.listdir(\"small_dataset/train\"):\n",
    "        subdir_train_path = os.path.join(\"small_dataset/train\", subdir)\n",
    "        subdir_test_path = os.path.join(\"small_dataset/train\", subdir)\n",
    "        if os.path.isdir(subdir_train_path):\n",
    "            num_files = len([name for name in os.listdir(subdir_train_path) if os.path.isfile(os.path.join(subdir_train_path, name))])\n",
    "            if num_files < threshold:\n",
    "                shutil.copytree(subdir_train_path, os.path.join(vsmall_train, subdir))\n",
    "                shutil.copytree(subdir_test_path, os.path.join(vsmall_test, subdir))\n",
    "                count += 1\n",
    "\n",
    "    print(\"count: \", count)"
   ]
  },
  {
   "cell_type": "code",
   "execution_count": 13,
   "id": "8cb8fe09-db85-4c7a-b8f9-2cd951c109c8",
   "metadata": {},
   "outputs": [
    {
     "name": "stdout",
     "output_type": "stream",
     "text": [
      "[311, 462, 717, 227, 683, 569, 712, 485, 897, 38, 428, 186, 742, 583, 704, 687, 116, 607, 28, 608, 513, 654, 619, 684, 710, 894, 464, 314, 348, 49, 157, 148, 436, 110, 769, 70, 642, 183, 491, 703, 793, 437, 519, 77, 872, 567, 8, 161, 405, 523, 505, 299, 854, 535, 518, 675, 501, 851, 185, 380, 545, 898, 10, 309, 411, 681, 368, 628, 302, 343, 597, 566, 887, 172, 480, 772, 864, 237, 468, 843, 531, 22, 727, 671, 856, 620, 144, 357, 613, 177, 208, 860, 869, 549, 886, 593, 817, 56, 295, 606, 21, 502, 279, 98, 473, 828, 461, 483, 47, 199, 561, 253, 663, 391, 324, 32, 733, 822, 509, 260, 857, 141, 308, 175, 800, 522, 612, 746, 853, 334, 155, 691, 360, 515, 493, 165, 610, 721, 340, 767, 265, 858, 737, 655, 287, 722, 132, 5, 728, 863, 764, 276, 67, 427]\n"
     ]
    }
   ],
   "source": [
    "import random\n",
    "\n",
    "random_numbers = random.sample(range(1, 904 + 1), 154)\n",
    "print(random_numbers)"
   ]
  },
  {
   "cell_type": "code",
   "execution_count": 14,
   "id": "e0117395-63b9-4b76-aad6-f04888ad02f1",
   "metadata": {},
   "outputs": [],
   "source": [
    "import os\n",
    "import shutil\n",
    "\n",
    "def find_random_dataset(root_dir, random_numbers):\n",
    "    random_train = os.path.join(root_dir, \"random_dataset/train\")\n",
    "    random_test = os.path.join(root_dir, \"random_dataset/test\")\n",
    "    \n",
    "    os.makedirs(random_train)\n",
    "    os.makedirs(random_test)\n",
    "\n",
    "    count = 0    \n",
    "    for index, subdir in enumerate(os.listdir(\"vsmall_dataset/train\")):\n",
    "        if index in random_numbers:\n",
    "            subdir_train_path = os.path.join(\"vsmall_dataset/train\", subdir)\n",
    "            subdir_test_path = os.path.join(\"vsmall_dataset/test\", subdir)\n",
    "            if os.path.isdir(subdir_train_path):\n",
    "                shutil.copytree(subdir_train_path, os.path.join(random_train, subdir))\n",
    "                shutil.copytree(subdir_test_path, os.path.join(random_test, subdir))\n",
    "                count += 1\n",
    "\n",
    "    print(\"count: \", count)"
   ]
  },
  {
   "cell_type": "code",
   "execution_count": 15,
   "id": "27a29035-c34d-40f9-a212-7ea7b2ae1bcc",
   "metadata": {},
   "outputs": [
    {
     "name": "stdout",
     "output_type": "stream",
     "text": [
      "count:  154\n"
     ]
    }
   ],
   "source": [
    "root_dir = \".\"\n",
    "find_random_dataset(root_dir, random_numbers)"
   ]
  },
  {
   "cell_type": "code",
   "execution_count": null,
   "id": "7a517cac-a949-437d-b095-27fbbac7a75e",
   "metadata": {},
   "outputs": [],
   "source": []
  }
 ],
 "metadata": {
  "kernelspec": {
   "display_name": "Python 3 (ipykernel)",
   "language": "python",
   "name": "python3"
  },
  "language_info": {
   "codemirror_mode": {
    "name": "ipython",
    "version": 3
   },
   "file_extension": ".py",
   "mimetype": "text/x-python",
   "name": "python",
   "nbconvert_exporter": "python",
   "pygments_lexer": "ipython3",
   "version": "3.8.18"
  }
 },
 "nbformat": 4,
 "nbformat_minor": 5
}
