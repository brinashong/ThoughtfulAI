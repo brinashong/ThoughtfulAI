{
 "cells": [
  {
   "cell_type": "markdown",
   "id": "369900f0-a437-4844-8bbb-19b3bfacb172",
   "metadata": {},
   "source": [
    "## Data Preprocessing"
   ]
  },
  {
   "cell_type": "code",
   "execution_count": 2,
   "id": "87f6eee2-0a4a-4b2b-a58a-aabf11bef6f4",
   "metadata": {},
   "outputs": [],
   "source": [
    "import os\n",
    "import shutil"
   ]
  },
  {
   "cell_type": "code",
   "execution_count": 26,
   "id": "f6453901-f75a-4b60-8812-3c36e39d953f",
   "metadata": {},
   "outputs": [],
   "source": [
    "def categorize_dataset(root_dir, threshold):\n",
    "    data_train= os.path.join(root_dir, \"dataset/train\")\n",
    "    data_test = os.path.join(root_dir, \"dataset/test\")\n",
    "    small_train = os.path.join(root_dir, \"small_dataset/train\")\n",
    "    small_test = os.path.join(root_dir, \"small_dataset/test\")\n",
    "    large_train = os.path.join(root_dir, \"large_dataset/train\")\n",
    "    large_test = os.path.join(root_dir, \"large_dataset/test\")\n",
    "\n",
    "    os.makedirs(small_train)\n",
    "    os.makedirs(small_test)\n",
    "    os.makedirs(large_train)\n",
    "    os.makedirs(large_test)\n",
    "\n",
    "    small_count = 0\n",
    "    large_count = 0\n",
    "    for subdir in os.listdir(data_train):\n",
    "        subdir_train_path = os.path.join(data_train, subdir)\n",
    "        subdir_test_path = os.path.join(data_test, subdir)\n",
    "        if os.path.isdir(subdir_train_path):\n",
    "            num_files = len([name for name in os.listdir(subdir_train_path) if os.path.isfile(os.path.join(subdir_train_path, name))])\n",
    "            if num_files < threshold:\n",
    "                shutil.copytree(subdir_train_path, os.path.join(small_train, subdir))\n",
    "                shutil.copytree(subdir_test_path, os.path.join(small_test, subdir))\n",
    "                small_count += 1\n",
    "            else:\n",
    "                shutil.copytree(subdir_train_path, os.path.join(large_train, subdir))\n",
    "                shutil.copytree(subdir_test_path, os.path.join(large_test, subdir))\n",
    "                large_count += 1\n",
    "\n",
    "    print(\"small_count: \", small_count)\n",
    "    print(\"large_count: \", large_count)"
   ]
  },
  {
   "cell_type": "code",
   "execution_count": 28,
   "id": "0eaf2571-4c99-43d8-86cc-30fa77b384be",
   "metadata": {},
   "outputs": [
    {
     "name": "stdout",
     "output_type": "stream",
     "text": [
      "small_count:  2229\n",
      "large_count:  155\n"
     ]
    }
   ],
   "source": [
    "root_dir = \".\"\n",
    "categorize_dataset(root_dir, 500)"
   ]
  },
  {
   "cell_type": "code",
   "execution_count": null,
   "id": "8cb8fe09-db85-4c7a-b8f9-2cd951c109c8",
   "metadata": {},
   "outputs": [],
   "source": []
  }
 ],
 "metadata": {
  "kernelspec": {
   "display_name": "Python 3 (ipykernel)",
   "language": "python",
   "name": "python3"
  },
  "language_info": {
   "codemirror_mode": {
    "name": "ipython",
    "version": 3
   },
   "file_extension": ".py",
   "mimetype": "text/x-python",
   "name": "python",
   "nbconvert_exporter": "python",
   "pygments_lexer": "ipython3",
   "version": "3.8.18"
  }
 },
 "nbformat": 4,
 "nbformat_minor": 5
}
