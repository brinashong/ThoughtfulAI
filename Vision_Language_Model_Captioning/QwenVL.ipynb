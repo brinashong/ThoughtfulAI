{
 "cells": [
  {
   "cell_type": "code",
   "execution_count": null,
   "metadata": {},
   "outputs": [],
   "source": [
    "from transformers import AutoModelForCausalLM, AutoTokenizer\n",
    "from transformers.generation import GenerationConfig\n",
    "import torch\n",
    "import pandas as pd\n",
    "from tqdm.notebook import tqdm\n",
    "tqdm.pandas()\n",
    "torch.manual_seed(1234)\n",
    "\n",
    "tokenizer = AutoTokenizer.from_pretrained(\"Qwen/Qwen-14B-Chat\", trust_remote_code=True)\n",
    "model = AutoModelForCausalLM.from_pretrained(\"Qwen/Qwen-14B-Chat\", device_map=\"cuda\", trust_remote_code=True).eval()\n"
   ]
  },
  {
   "cell_type": "code",
   "execution_count": null,
   "metadata": {},
   "outputs": [],
   "source": [
    "def describe_image(image_path, seed=4):\n",
    "    try:\n",
    "        with torch.no_grad():\n",
    "            torch.manual_seed(seed)\n",
    "            query = tokenizer.from_list_format([\n",
    "                {'image': image_path},\n",
    "                {'text': \"这是什么？请示出 - 产品品类： ； 品牌： ；副品牌： ；产品名称： ； 净含量： ； 颜色： ；\"},\n",
    "                {'text': 'Describe this image with a rich description. If possible, identify the product category, brand, subbrand, container type and SKU name. Give your answer in this format: Description: ; Category: ; Brand: ; Sub-brand: ; SKU Name: '},\n",
    "            ])\n",
    "            response, history = model.chat(tokenizer, query=query, history=None)\n",
    "            return response\n",
    "    except:\n",
    "        print(image_path)\n",
    "        return image_path"
   ]
  },
  {
   "cell_type": "code",
   "execution_count": null,
   "metadata": {},
   "outputs": [],
   "source": [
    "import os\n",
    "folder_path = \"all\" #path to folder with images e.g. all/train/product_folder/image.jpg\n",
    "filepath_list = []\n",
    "for folder in os.listdir(folder_path):\n",
    "    for product_folder in os.listdir(folder_path+\"/\"+folder):\n",
    "        filepath_list.extend([folder_path+\"/\"+folder+\"/\"+ product_folder + \"/\" + x for x in os.listdir(folder_path+\"/\"+folder+\"/\"+product_folder)])\n",
    "df = pd.DataFrame(filepath_list)\n",
    "df.columns = ['filepath']\n",
    "df.to_csv(\"filepaths.csv\", index=False)"
   ]
  },
  {
   "cell_type": "code",
   "execution_count": null,
   "metadata": {},
   "outputs": [],
   "source": [
    "import pandas as pd\n",
    "df = pd.read_csv(\"filepaths.csv\")\n",
    "products = df.filepath.apply(lambda x: x.split(\"/\")[2]).values\n",
    "df['product'] = products\n",
    "df = df[df['filepath'].apply(lambda x: \"others\" in x)]\n",
    "df.to_excel(\"output.xlsx\", index=False)"
   ]
  },
  {
   "cell_type": "code",
   "execution_count": null,
   "metadata": {},
   "outputs": [],
   "source": [
    "df = pd.read_excel(\"output.xlsx\")\n",
    "df['qwen_description'] = df['filepath'].progress_apply(describe_image)\n",
    "df.to_excel(\"output_qwen.xlsx\", index=False)"
   ]
  }
 ],
 "metadata": {
  "language_info": {
   "name": "python"
  }
 },
 "nbformat": 4,
 "nbformat_minor": 2
}
